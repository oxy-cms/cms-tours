{
 "metadata": {
  "name": "",
  "signature": "sha256:6c5b7a312fd490111a3cf1497baf270dccc9215897a491873a74c92445d052b5"
 },
 "nbformat": 3,
 "nbformat_minor": 0,
 "worksheets": [
  {
   "cells": [
    {
     "cell_type": "heading",
     "level": 1,
     "metadata": {},
     "source": [
      "The beginning of a demo"
     ]
    },
    {
     "cell_type": "code",
     "collapsed": false,
     "input": [
      "from SimpleCV import *\n",
      "from time import sleep\n",
      "#import pytesseract\n",
      "from bs4 import BeautifulSoup\n"
     ],
     "language": "python",
     "metadata": {},
     "outputs": [],
     "prompt_number": 5
    },
    {
     "cell_type": "markdown",
     "metadata": {},
     "source": [
      "Here we set up the camera"
     ]
    },
    {
     "cell_type": "code",
     "collapsed": false,
     "input": [
      "cam = Camera()"
     ],
     "language": "python",
     "metadata": {},
     "outputs": [],
     "prompt_number": 6
    },
    {
     "cell_type": "markdown",
     "metadata": {},
     "source": [
      "Now we also get a single image from the cam, so mug it up!"
     ]
    },
    {
     "cell_type": "code",
     "collapsed": false,
     "input": [
      "img = cam.getImage()"
     ],
     "language": "python",
     "metadata": {},
     "outputs": [],
     "prompt_number": 7
    },
    {
     "cell_type": "markdown",
     "metadata": {},
     "source": [
      "In Ipython Notebook, you can sometimes use TAB autocompletion if the variable is in memory.\n",
      "\n",
      "Let's see what \"sh\" brings up."
     ]
    },
    {
     "cell_type": "markdown",
     "metadata": {},
     "source": [
      "img.sh"
     ]
    },
    {
     "cell_type": "markdown",
     "metadata": {},
     "source": [
      "Let's try shrinking beforehand"
     ]
    },
    {
     "cell_type": "code",
     "collapsed": false,
     "input": [
      "img.scale(0.5).show()\n",
      "# Okay, let's keep that\n",
      "img = img.scale(0.5)"
     ],
     "language": "python",
     "metadata": {},
     "outputs": [],
     "prompt_number": 8
    },
    {
     "cell_type": "markdown",
     "metadata": {},
     "source": [
      "Let's try getting some documentation"
     ]
    },
    {
     "cell_type": "code",
     "collapsed": false,
     "input": [
      "img.edges?"
     ],
     "language": "python",
     "metadata": {},
     "outputs": [],
     "prompt_number": 9
    },
    {
     "cell_type": "markdown",
     "metadata": {},
     "source": [
      "Okay, cool - built in documentation. Good."
     ]
    },
    {
     "cell_type": "markdown",
     "metadata": {},
     "source": [
      "Let's draw some text on it."
     ]
    },
    {
     "cell_type": "code",
     "collapsed": false,
     "input": [
      "# This draws directly onto the image (in place)\n",
      "img.drawText('RASPBERRY Pi', 10, 10, color=Color.BLUE, )\n",
      "img.show()"
     ],
     "language": "python",
     "metadata": {},
     "outputs": [
      {
       "metadata": {},
       "output_type": "pyout",
       "prompt_number": 10,
       "text": [
        "<SimpleCV.Display Object resolution:((320, 240)), Image Resolution: (320, 240) at memory location: (0x6aa73cb0)>"
       ]
      }
     ],
     "prompt_number": 10
    },
    {
     "cell_type": "code",
     "collapsed": false,
     "input": [
      "#Let's try bigger font\n",
      "img.drawText('RASPBERRY Pi', 10, 10, color=Color.ORANGE, fontsize=50)\n",
      "img.drawText('SimpleCV', 10, 100, color=Color.ORANGE, fontsize=50)\n",
      "img.show()"
     ],
     "language": "python",
     "metadata": {},
     "outputs": [
      {
       "metadata": {},
       "output_type": "pyout",
       "prompt_number": 11,
       "text": [
        "<SimpleCV.Display Object resolution:((320, 240)), Image Resolution: (320, 240) at memory location: (0x6a9eb670)>"
       ]
      }
     ],
     "prompt_number": 11
    },
    {
     "cell_type": "code",
     "collapsed": false,
     "input": [
      "#from SimpleCV import Image, Color, Display\n",
      "\n",
      "# Make a function that does a half and half image.\n",
      "def halfsies(left,right): \n",
      "    result = left\n",
      "    # crop the right image to be just the right side.\n",
      "    crop   = right.crop(right.width/2.0,0,right.width/2.0,right.height)\n",
      "    # now paste the crop on the left image.\n",
      "    result = result.blit(crop,(left.width/2,0))\n",
      "    # return the results.\n",
      "    return result\n",
      "# Load an image from imgur.\n",
      "#img = Image('http://i.imgur.com/lfAeZ4n.png')\n",
      "# binarize the image using a threshold of 90 \n",
      "# and invert the results.\n",
      "output = img.binarize().invert()\n",
      "# create the side by side image.\n",
      "result = halfsies(img,output)\n",
      "\n",
      "result.show()\n"
     ],
     "language": "python",
     "metadata": {},
     "outputs": [
      {
       "metadata": {},
       "output_type": "pyout",
       "prompt_number": 12,
       "text": [
        "<SimpleCV.Display Object resolution:((320, 240)), Image Resolution: (320, 240) at memory location: (0x6a9ebda0)>"
       ]
      }
     ],
     "prompt_number": 12
    },
    {
     "cell_type": "code",
     "collapsed": false,
     "input": [],
     "language": "python",
     "metadata": {},
     "outputs": [],
     "prompt_number": 12
    },
    {
     "cell_type": "markdown",
     "metadata": {},
     "source": [
      "Let's look at some people"
     ]
    },
    {
     "cell_type": "markdown",
     "metadata": {},
     "source": [
      "Who's there?\n",
      "\n",
      "This function lists what features we can detect (built in)."
     ]
    },
    {
     "cell_type": "code",
     "collapsed": false,
     "input": [
      "img.listHaarFeatures()"
     ],
     "language": "python",
     "metadata": {},
     "outputs": [
      {
       "output_type": "stream",
       "stream": "stdout",
       "text": [
        "['face3.xml', 'mouth.xml', 'glasses.xml', 'fullbody.xml', 'face.xml', 'nose.xml', 'lower_body.xml', 'right_eye2.xml', 'upper_body.xml', 'face2.xml', 'face_cv2.xml', 'right_ear.xml', 'left_ear.xml', 'left_eye2.xml', 'face4.xml', 'right_eye.xml', 'upper_body2.xml', 'two_eyes_big.xml', 'lefteye.xml', 'two_eyes_small.xml', 'eye.xml', 'profile.xml']\n"
       ]
      }
     ],
     "prompt_number": 13
    },
    {
     "cell_type": "code",
     "collapsed": false,
     "input": [
      "ppl = Image('group.jpg')\n",
      "ppl = Image('tng.jpg')\n",
      "ppl.show()"
     ],
     "language": "python",
     "metadata": {},
     "outputs": [
      {
       "metadata": {},
       "output_type": "pyout",
       "prompt_number": 14,
       "text": [
        "<SimpleCV.Display Object resolution:((275, 183)), Image Resolution: (275, 183) at memory location: (0x6aa11440)>"
       ]
      }
     ],
     "prompt_number": 14
    },
    {
     "cell_type": "code",
     "collapsed": false,
     "input": [
      "#obs = ppl.findHaarFeatures('face.xml')\n",
      "obs = ppl.findHaarFeatures('upper_body.xml')\n",
      "\n",
      "for f in obs:\n",
      "    print str(f.coordinates())\n",
      "    f.draw(color=Color.YELLOW, width=4)\n",
      "    \n",
      "    \n",
      "ppl.show()"
     ],
     "language": "python",
     "metadata": {},
     "outputs": [
      {
       "output_type": "stream",
       "stream": "stdout",
       "text": [
        "[227  36]\n",
        "[58 37]"
       ]
      },
      {
       "output_type": "stream",
       "stream": "stdout",
       "text": [
        "\n",
        "[178  40]\n",
        "[94 49]"
       ]
      },
      {
       "output_type": "stream",
       "stream": "stdout",
       "text": [
        "\n",
        "[36 65]\n",
        "[210  78]"
       ]
      },
      {
       "output_type": "stream",
       "stream": "stdout",
       "text": [
        "\n",
        "[125  39]\n"
       ]
      },
      {
       "metadata": {},
       "output_type": "pyout",
       "prompt_number": 15,
       "text": [
        "<SimpleCV.Display Object resolution:((275, 183)), Image Resolution: (275, 183) at memory location: (0x6aa11828)>"
       ]
      }
     ],
     "prompt_number": 15
    },
    {
     "cell_type": "markdown",
     "metadata": {},
     "source": [
      "Look at the image set as a whole"
     ]
    },
    {
     "cell_type": "code",
     "collapsed": false,
     "input": [
      "print obs.sortX()\n",
      "\n",
      "# Highlight the person on the end\n",
      "feat1 = obs.sortX()[-1]\n",
      "feat1.draw(color=Color.RED, width=4)\n",
      "\n",
      "feat2 = obs.sortX()[0]\n",
      "\n",
      "\n",
      "# reshow the image after drawing in it\n",
      "ppl.show()\n"
     ],
     "language": "python",
     "metadata": {},
     "outputs": [
      {
       "output_type": "stream",
       "stream": "stdout",
       "text": [
        "[SimpleCV.Features.Detection.HaarFeature at (36,65), SimpleCV.Features.Detection.HaarFeature at (58,37), SimpleCV.Features.Detection.HaarFeature at (94,49), SimpleCV.Features.Detection.HaarFeature at (125,39), SimpleCV.Features.Detection.HaarFeature at (178,40), SimpleCV.Features.Detection.HaarFeature at (210,78), SimpleCV.Features.Detection.HaarFeature at (227,36)]\n"
       ]
      },
      {
       "metadata": {},
       "output_type": "pyout",
       "prompt_number": 16,
       "text": [
        "<SimpleCV.Display Object resolution:((275, 183)), Image Resolution: (275, 183) at memory location: (0x6aa11df0)>"
       ]
      }
     ],
     "prompt_number": 16
    },
    {
     "cell_type": "code",
     "collapsed": false,
     "input": [
      "# Here's a function that may help you swap parts in two images.\n",
      "def swap( img1, f1, f2):\n",
      "    # Gte a \"mask\" that is the first feature cropped and ressized \n",
      "    # to the size of the second feature.\n",
      "    f1mask = f1.crop().resize(w=f2.width(), h=f2.height())\n",
      "    \n",
      "    # get the similar for the other\n",
      "    f2mask = f2.crop().resize(w=f1.width(), h=f1.height())\n",
      "    \n",
      "    \n",
      "    # Set up the output images\n",
      "    out1 = img1.blit( f2mask, f1.topLeftCorner(), alpha=0.8)\n",
      "    out2 = out1.blit( f1mask, f2.topLeftCorner(), alpha=0.8)\n",
      "    \n",
      "    return out1, out2"
     ],
     "language": "python",
     "metadata": {},
     "outputs": [],
     "prompt_number": 17
    },
    {
     "cell_type": "code",
     "collapsed": false,
     "input": [
      "# Run the swap and ignore the first return value\n",
      "img3, img4 = swap( ppl, feat1, feat2)\n",
      "\n",
      "\n",
      "img4.show()"
     ],
     "language": "python",
     "metadata": {},
     "outputs": [
      {
       "metadata": {},
       "output_type": "pyout",
       "prompt_number": 18,
       "text": [
        "<SimpleCV.Display Object resolution:((275, 183)), Image Resolution: (275, 183) at memory location: (0x6aa070f8)>"
       ]
      }
     ],
     "prompt_number": 18
    },
    {
     "cell_type": "code",
     "collapsed": false,
     "input": [
      "while True:\n",
      "    # Reduce the image size\n",
      "    img = cam.getImage().scale(0.5)\n",
      "    faces = img.findHaarFeatures(\"face.xml\")\n",
      "    for f in faces:\n",
      "        f.draw(width=3)\n",
      "\n",
      "    img.show()\n"
     ],
     "language": "python",
     "metadata": {},
     "outputs": []
    },
    {
     "cell_type": "code",
     "collapsed": false,
     "input": [
      "### NOTE: I think you'll want to move this code to the while loop above so it's executed repeatedly.\n",
      "# That while loop never exits right now (always True)\n",
      "face1 = faces.sortX()[]\n",
      "face2= faces.sortX()[1]\n",
      "\n",
      "img1 = swap (img, face1, face2)\n",
      "\n",
      "img1.show()\n"
     ],
     "language": "python",
     "metadata": {},
     "outputs": []
    },
    {
     "cell_type": "code",
     "collapsed": false,
     "input": [],
     "language": "python",
     "metadata": {},
     "outputs": []
    }
   ],
   "metadata": {}
  }
 ]
}