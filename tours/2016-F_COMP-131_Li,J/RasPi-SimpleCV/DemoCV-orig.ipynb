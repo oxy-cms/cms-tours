{
 "metadata": {
  "name": "",
  "signature": "sha256:b3848868ff5da630982710149b2e54f2549f959f81b45798ee20f0e91cb9d268"
 },
 "nbformat": 3,
 "nbformat_minor": 0,
 "worksheets": [
  {
   "cells": [
    {
     "cell_type": "heading",
     "level": 1,
     "metadata": {},
     "source": [
      "The beginning of a demo"
     ]
    },
    {
     "cell_type": "code",
     "collapsed": false,
     "input": [
      "from SimpleCV import *\n",
      "from time import sleep\n",
      "#import pytesseract\n",
      "from bs4 import BeautifulSoup\n"
     ],
     "language": "python",
     "metadata": {},
     "outputs": [],
     "prompt_number": 93
    },
    {
     "cell_type": "markdown",
     "metadata": {},
     "source": [
      "Here we set up the camera"
     ]
    },
    {
     "cell_type": "code",
     "collapsed": false,
     "input": [
      "cam = Camera()"
     ],
     "language": "python",
     "metadata": {},
     "outputs": [],
     "prompt_number": 94
    },
    {
     "cell_type": "markdown",
     "metadata": {},
     "source": [
      "Now we also get a single image from the cam, so mug it up!"
     ]
    },
    {
     "cell_type": "code",
     "collapsed": false,
     "input": [
      "img = cam.getImage()"
     ],
     "language": "python",
     "metadata": {},
     "outputs": [],
     "prompt_number": 95
    },
    {
     "cell_type": "markdown",
     "metadata": {},
     "source": [
      "In Ipython Notebook, you can sometimes use TAB autocompletion if the variable is in memory.\n",
      "\n",
      "Let's see what \"sh\" brings up."
     ]
    },
    {
     "cell_type": "markdown",
     "metadata": {},
     "source": [
      "img.sh"
     ]
    },
    {
     "cell_type": "markdown",
     "metadata": {},
     "source": [
      "Let's try shrinking beforehand"
     ]
    },
    {
     "cell_type": "code",
     "collapsed": false,
     "input": [
      "img.scale(0.5).show()\n",
      "# Okay, let's keep that\n",
      "img = img.scale(0.5)"
     ],
     "language": "python",
     "metadata": {},
     "outputs": [],
     "prompt_number": 96
    },
    {
     "cell_type": "markdown",
     "metadata": {},
     "source": [
      "Let's try getting some documentation"
     ]
    },
    {
     "cell_type": "code",
     "collapsed": false,
     "input": [
      "img.edges?"
     ],
     "language": "python",
     "metadata": {},
     "outputs": [],
     "prompt_number": 97
    },
    {
     "cell_type": "markdown",
     "metadata": {},
     "source": [
      "Okay, cool - built in documentation. Good."
     ]
    },
    {
     "cell_type": "markdown",
     "metadata": {},
     "source": [
      "Let's draw some text on it."
     ]
    },
    {
     "cell_type": "code",
     "collapsed": false,
     "input": [
      "# This draws directly onto the image (in place)\n",
      "img.drawText('RASPBERRY Pi', 10, 10, color=Color.BLUE, )\n",
      "img.show()"
     ],
     "language": "python",
     "metadata": {},
     "outputs": [
      {
       "metadata": {},
       "output_type": "pyout",
       "prompt_number": 98,
       "text": [
        "<SimpleCV.Display Object resolution:((320, 240)), Image Resolution: (320, 240) at memory location: (0x6987e440)>"
       ]
      }
     ],
     "prompt_number": 98
    },
    {
     "cell_type": "code",
     "collapsed": false,
     "input": [
      "#Let's try bigger font\n",
      "img.drawText('RASPBERRY Pi', 10, 10, color=Color.ORANGE, fontsize=50)\n",
      "img.show()"
     ],
     "language": "python",
     "metadata": {},
     "outputs": [
      {
       "metadata": {},
       "output_type": "pyout",
       "prompt_number": 99,
       "text": [
        "<SimpleCV.Display Object resolution:((320, 240)), Image Resolution: (320, 240) at memory location: (0x69878a80)>"
       ]
      }
     ],
     "prompt_number": 99
    },
    {
     "cell_type": "markdown",
     "metadata": {},
     "source": [
      "Let's look at some people"
     ]
    },
    {
     "cell_type": "markdown",
     "metadata": {},
     "source": [
      "Who's there?\n",
      "\n",
      "This function lists what features we can detect (built in)."
     ]
    },
    {
     "cell_type": "code",
     "collapsed": false,
     "input": [
      "ppl.listHaarFeatures()"
     ],
     "language": "python",
     "metadata": {},
     "outputs": [
      {
       "output_type": "stream",
       "stream": "stdout",
       "text": [
        "['face3.xml', 'mouth.xml', 'glasses.xml', 'fullbody.xml', 'face.xml', 'nose.xml', 'lower_body.xml', 'right_eye2.xml', 'upper_body.xml', 'face2.xml', 'face_cv2.xml', 'right_ear.xml', 'left_ear.xml', 'left_eye2.xml', 'face4.xml', 'right_eye.xml', 'upper_body2.xml', 'two_eyes_big.xml', 'lefteye.xml', 'two_eyes_small.xml', 'eye.xml', 'profile.xml']\n"
       ]
      }
     ],
     "prompt_number": 100
    },
    {
     "cell_type": "code",
     "collapsed": false,
     "input": [
      "ppl = Image('group.jpg')\n",
      "ppl = Image('tng.jpg')\n",
      "ppl.show()"
     ],
     "language": "python",
     "metadata": {},
     "outputs": [
      {
       "metadata": {},
       "output_type": "pyout",
       "prompt_number": 101,
       "text": [
        "<SimpleCV.Display Object resolution:((275, 183)), Image Resolution: (275, 183) at memory location: (0x698783c8)>"
       ]
      }
     ],
     "prompt_number": 101
    },
    {
     "cell_type": "code",
     "collapsed": false,
     "input": [
      "#obs = ppl.findHaarFeatures('face.xml')\n",
      "obs = ppl.findHaarFeatures('upper_body.xml')\n",
      "\n",
      "for f in obs:\n",
      "    print str(f.coordinates())\n",
      "    f.draw(color=Color.YELLOW, width=4)\n",
      "    \n",
      "    \n",
      "ppl.show()"
     ],
     "language": "python",
     "metadata": {},
     "outputs": [
      {
       "output_type": "stream",
       "stream": "stdout",
       "text": [
        "[227  36]\n",
        "[58 37]\n",
        "[178  40]\n",
        "[94 49]"
       ]
      },
      {
       "output_type": "stream",
       "stream": "stdout",
       "text": [
        "\n",
        "[36 65]\n",
        "[210  78]"
       ]
      },
      {
       "output_type": "stream",
       "stream": "stdout",
       "text": [
        "\n",
        "[125  39]"
       ]
      },
      {
       "output_type": "stream",
       "stream": "stdout",
       "text": [
        "\n"
       ]
      },
      {
       "metadata": {},
       "output_type": "pyout",
       "prompt_number": 102,
       "text": [
        "<SimpleCV.Display Object resolution:((275, 183)), Image Resolution: (275, 183) at memory location: (0x686bd580)>"
       ]
      }
     ],
     "prompt_number": 102
    },
    {
     "cell_type": "markdown",
     "metadata": {},
     "source": [
      "Look at the image set as a whole"
     ]
    },
    {
     "cell_type": "code",
     "collapsed": false,
     "input": [
      "print obs.sortX()\n",
      "\n",
      "# Highlight the person on the left\n",
      "obs.sortX()[-1].draw(color=Color.RED, width=4)\n",
      "\n",
      "# reshow the image after drawing in it\n",
      "ppl.show()\n"
     ],
     "language": "python",
     "metadata": {},
     "outputs": [
      {
       "output_type": "stream",
       "stream": "stdout",
       "text": [
        "[SimpleCV.Features.Detection.HaarFeature at (36,65), SimpleCV.Features.Detection.HaarFeature at (58,37), SimpleCV.Features.Detection.HaarFeature at (94,49), SimpleCV.Features.Detection.HaarFeature at (125,39), SimpleCV.Features.Detection.HaarFeature at (178,40), SimpleCV.Features.Detection.HaarFeature at (210,78), SimpleCV.Features.Detection.HaarFeature at (227,36)]\n"
       ]
      },
      {
       "metadata": {},
       "output_type": "pyout",
       "prompt_number": 105,
       "text": [
        "<SimpleCV.Display Object resolution:((275, 183)), Image Resolution: (275, 183) at memory location: (0x686c83c8)>"
       ]
      }
     ],
     "prompt_number": 105
    },
    {
     "cell_type": "code",
     "collapsed": false,
     "input": [
      "#while True:\n",
      "    # Reduce the image size\n",
      "#    img = cam.getImage().scale(0.5)\n",
      "#    faces = img.findHaarFeatures(\"face.xml\")\n",
      "#    for f in faces:\n",
      "#        f.draw(width=3)\n",
      "#\n",
      "#    img.show()\n"
     ],
     "language": "python",
     "metadata": {},
     "outputs": [],
     "prompt_number": 104
    },
    {
     "cell_type": "code",
     "collapsed": false,
     "input": [],
     "language": "python",
     "metadata": {},
     "outputs": [],
     "prompt_number": 104
    }
   ],
   "metadata": {}
  }
 ]
}